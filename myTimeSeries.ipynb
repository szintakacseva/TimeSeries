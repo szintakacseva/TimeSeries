{
 "cells": [
  {
   "cell_type": "code",
   "execution_count": null,
   "id": "879e335c-fba2-419f-8a90-2aa6231ddd6f",
   "metadata": {},
   "outputs": [],
   "source": [
    "# Time Series Framework"
   ]
  },
  {
   "cell_type": "code",
   "execution_count": null,
   "id": "05db5d12-19c2-4115-b77c-441e2ba4ca87",
   "metadata": {},
   "outputs": [],
   "source": [
    "# Keywords\n",
    "time series, univariate, multivariate, AR, MR, ARIMA"
   ]
  },
  {
   "cell_type": "code",
   "execution_count": null,
   "id": "39c3bd81-fea9-4637-b554-ac5a339042a4",
   "metadata": {},
   "outputs": [],
   "source": [
    "# References\n"
   ]
  },
  {
   "cell_type": "code",
   "execution_count": null,
   "id": "534f88b5-1264-49fa-b192-de5f0888ded2",
   "metadata": {},
   "outputs": [],
   "source": [
    "# imports\n",
    "import os\n",
    "\n",
    "import pandas as pd\n",
    "import numpy as np\n",
    "\n",
    "import matplotlib.pyplot as plt\n",
    "import matplotlib.dates as mdates\n",
    "\n",
    "import seaborn as sns\n",
    "\n",
    "from sklearn.metrics import mean_squared_error\n",
    "from math import sqrt\n",
    "\n",
    "from statsmodels.tsa.api import acf, graphics, pacf\n",
    "from statsmodels.tsa.ar_model import AutoReg, ar_select_order"
   ]
  }
 ],
 "metadata": {
  "kernelspec": {
   "display_name": "Python 3 (ipykernel)",
   "language": "python",
   "name": "python3"
  },
  "language_info": {
   "codemirror_mode": {
    "name": "ipython",
    "version": 3
   },
   "file_extension": ".py",
   "mimetype": "text/x-python",
   "name": "python",
   "nbconvert_exporter": "python",
   "pygments_lexer": "ipython3",
   "version": "3.10.4"
  }
 },
 "nbformat": 4,
 "nbformat_minor": 5
}
